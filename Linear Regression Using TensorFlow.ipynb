{
 "cells": [
  {
   "cell_type": "markdown",
   "metadata": {},
   "source": [
    "\n",
    "Linear Regression Using TensorFlow\n",
    "==================================\n",
    "\n",
    "In this notebook, we will go through the steps for performing Linear Regression on using TensorFlow. We will start with a simple problem and then scale it up using a real data example. "
   ]
  },
  {
   "cell_type": "markdown",
   "metadata": {},
   "source": [
    "---\n",
    "Loading Libraries and Dependencies\n",
    "----------------------------------"
   ]
  },
  {
   "cell_type": "code",
   "execution_count": 2,
   "metadata": {
    "collapsed": false
   },
   "outputs": [],
   "source": [
    "import numpy as np\n",
    "import tensorflow as tf\n",
    "import matplotlib.pyplot as plt\n",
    "%matplotlib inline"
   ]
  },
  {
   "cell_type": "markdown",
   "metadata": {},
   "source": [
    "---\n",
    "Part 1: Simple Problem\n",
    "--------------------\n",
    "\n",
    "We all know that linear regression can be written as \n",
    "       \n",
    "       y = x*W + b \n",
    "       where x = Data Points\n",
    "             y = Outcome variable\n",
    "             W = Weights\n",
    "             b = Bias terms\n",
    "\n",
    "In this problem we will randomly generate the values of 'x' and then generate an equation of \n",
    "    y = 3*x + 10\n",
    "\n",
    "We will then train our tensorflow model to calculate the values of W (which is 3) and b (which is 10)."
   ]
  },
  {
   "cell_type": "markdown",
   "metadata": {},
   "source": [
    "#### Initialize the variables"
   ]
  },
  {
   "cell_type": "code",
   "execution_count": 34,
   "metadata": {
    "collapsed": false
   },
   "outputs": [
    {
     "name": "stdout",
     "output_type": "stream",
     "text": [
      "The final model trained is y = x*[ 3.00000024] + [ 10.]\n"
     ]
    }
   ],
   "source": [
    "# Initialize the x and y variables\n",
    "x = tf.placeholder(\"float\")\n",
    "y = tf.placeholder(\"float\")\n",
    "\n",
    "# Initialize the weight and bias terms\n",
    "W = tf.Variable([0.0], \"float\")\n",
    "b = tf.Variable([0.0], \"float\")\n",
    "\n",
    "# Generate the y' value which is the outcome of our equation\n",
    "y_model = tf.mul(x, W) + b\n",
    "\n",
    "# Define the cost function -- this is just the squared error of the original y and the calculated y\n",
    "cost = tf.square(y - y_model)\n",
    "\n",
    "# We now define the optimizer wiz GradientDescent with a learning rate of 0.5. We want it to minimize the cost\n",
    "optimizer = tf.train.GradientDescentOptimizer(learning_rate=0.5).minimize(cost)\n",
    "\n",
    "# Now that we have all the variables needed, we will initialize them\n",
    "init = tf.initialize_all_variables()\n",
    "\n",
    "\n",
    "# Create an empty list to store error\n",
    "error = []\n",
    "# Train our model\n",
    "with tf.Session() as sess:\n",
    "    sess.run(init)\n",
    "    \n",
    "    for i in range(1000):\n",
    "        x_vals = np.random.rand()\n",
    "        y_vals = 3*x_vals + 10\n",
    "        _, err = sess.run([optimizer, cost], feed_dict={x:x_vals, y:y_vals})\n",
    "        error.append(err)\n",
    "    \n",
    "    W_ = sess.run(W)\n",
    "    b_ = sess.run(b)\n",
    "    print \"The final model trained is y = x*{0} + {1}\".format(W_, b_)    \n"
   ]
  },
  {
   "cell_type": "markdown",
   "metadata": {},
   "source": [
    "As we can see our model has accurately found out the values of W and b as 3 and 10 respectively. This is exactly the value that we had provided as our training data.\n",
    "\n",
    "For the next step, we will use a dataset to generate the model. This will be a bit more complex as we will have more variables in x, thus resulting in a bigger W matrix and b array.\n",
    "    "
   ]
  },
  {
   "cell_type": "markdown",
   "metadata": {},
   "source": [
    "---\n",
    "Part 2: Complex Problem\n",
    "-----------------------\n",
    "\n",
    "In this section we will load some data and then run a linear regression on that data using TensorFlow. We will use the same steps as above but this time it will be with a larger weight matrix and a larger bias array."
   ]
  },
  {
   "cell_type": "code",
   "execution_count": null,
   "metadata": {
    "collapsed": true
   },
   "outputs": [],
   "source": [
    "# Load the data\n",
    "filepath = "
   ]
  }
 ],
 "metadata": {
  "kernelspec": {
   "display_name": "Python [Root]",
   "language": "python",
   "name": "Python [Root]"
  },
  "language_info": {
   "codemirror_mode": {
    "name": "ipython",
    "version": 2
   },
   "file_extension": ".py",
   "mimetype": "text/x-python",
   "name": "python",
   "nbconvert_exporter": "python",
   "pygments_lexer": "ipython2",
   "version": "2.7.11"
  }
 },
 "nbformat": 4,
 "nbformat_minor": 0
}
