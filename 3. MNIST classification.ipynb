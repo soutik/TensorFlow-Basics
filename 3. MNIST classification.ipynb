{
 "cells": [
  {
   "cell_type": "markdown",
   "metadata": {},
   "source": [
    "MNIST Classification using TensorFlow\n",
    "======================================\n",
    "\n",
    "In this notebook we will go through the steps to perform classification of handwritten digits in the MNIST data."
   ]
  },
  {
   "cell_type": "markdown",
   "metadata": {},
   "source": [
    "---\n",
    "Loading Libraries and Dependencies\n",
    "----------------------------------"
   ]
  },
  {
   "cell_type": "code",
   "execution_count": 2,
   "metadata": {
    "collapsed": true
   },
   "outputs": [],
   "source": [
    "import numpy as np\n",
    "import tensorflow as tf\n",
    "import matplotlib.pyplot as plt\n",
    "%matplotlib inline"
   ]
  },
  {
   "cell_type": "markdown",
   "metadata": {},
   "source": [
    "---\n",
    "Part 1: Simple Problem - Single Layer Nueral Net\n",
    "------------------------------------------------\n",
    "\n",
    "In this we will build a single layer nueral net, which we will expand over time to create a deep nueral network.\n",
    "\n",
    "We will use the data which comes as a part of the TensorFlow library."
   ]
  },
  {
   "cell_type": "code",
   "execution_count": 3,
   "metadata": {
    "collapsed": false
   },
   "outputs": [
    {
     "name": "stdout",
     "output_type": "stream",
     "text": [
      "Successfully downloaded train-images-idx3-ubyte.gz 9912422 bytes.\n",
      "Extracting MNIST_data/train-images-idx3-ubyte.gz\n",
      "Successfully downloaded train-labels-idx1-ubyte.gz 28881 bytes.\n",
      "Extracting MNIST_data/train-labels-idx1-ubyte.gz\n",
      "Successfully downloaded t10k-images-idx3-ubyte.gz 1648877 bytes.\n",
      "Extracting MNIST_data/t10k-images-idx3-ubyte.gz\n",
      "Successfully downloaded t10k-labels-idx1-ubyte.gz 4542 bytes.\n",
      "Extracting MNIST_data/t10k-labels-idx1-ubyte.gz\n"
     ]
    }
   ],
   "source": [
    "from tensorflow.examples.tutorials.mnist import input_data\n",
    "mnist = input_data.read_data_sets(\"MNIST_data\", one_hot = True)"
   ]
  },
  {
   "cell_type": "code",
   "execution_count": 29,
   "metadata": {
    "collapsed": false
   },
   "outputs": [
    {
     "name": "stdout",
     "output_type": "stream",
     "text": [
      "The train error of the model at iteration    0 is 48.00 %\n",
      "The train error of the model at iteration  100 is 91.00 %\n",
      "The train error of the model at iteration  200 is 92.00 %\n",
      "The train error of the model at iteration  300 is 99.00 %\n",
      "The train error of the model at iteration  400 is 93.00 %\n",
      "The train error of the model at iteration  500 is 88.00 %\n",
      "The train error of the model at iteration  600 is 95.00 %\n",
      "The train error of the model at iteration  700 is 90.00 %\n",
      "The train error of the model at iteration  800 is 93.00 %\n",
      "The train error of the model at iteration  900 is 93.00 %\n",
      "The test accuracy of our final model is 91.51 %\n"
     ]
    }
   ],
   "source": [
    "# Initialize all the weights and values\n",
    "x = tf.placeholder(tf.float32, shape=[None, 784])\n",
    "y = tf.placeholder(tf.float32, shape=[None, 10])\n",
    "\n",
    "W = tf.Variable(tf.zeros([784, 10]))\n",
    "b = tf.Variable(tf.zeros([10]))\n",
    "\n",
    "# Define the model\n",
    "y_model = tf.add(tf.matmul(x, W), b)\n",
    "\n",
    "# Define the cost function\n",
    "cost = tf.reduce_mean(tf.nn.softmax_cross_entropy_with_logits(y_model, y))\n",
    "\n",
    "# Define the optimizer\n",
    "optimizer = tf.train.GradientDescentOptimizer(0.5).minimize(cost)\n",
    "# Initialize all variables\n",
    "init = tf.initialize_all_variables()\n",
    "\n",
    "# Define the accuracy term\n",
    "correct_prediction = tf.equal(tf.argmax(y,1), tf.argmax(y_model,1))\n",
    "accuracy = tf.reduce_mean(tf.cast(correct_prediction, tf.float32))\n",
    "\n",
    "# Train the model\n",
    "training_epochs = 1000\n",
    "with tf.Session() as sess:\n",
    "    sess.run(init)\n",
    "    for i in range(training_epochs):\n",
    "        batch = mnist.train.next_batch(100)\n",
    "        sess.run(optimizer, feed_dict = {x:batch[0], y: batch[1]})\n",
    "        if i %100 == 0:\n",
    "            err = sess.run(accuracy, feed_dict = {x:batch[0], y: batch[1]})\n",
    "            print \"The train error of the model at iteration {:4d} is {:1.2f} %\".format(i, err*100)\n",
    "\n",
    "    acc = sess.run(accuracy, feed_dict = {x: mnist.test.images, y: mnist.test.labels})\n",
    "    print \"The test accuracy of our final model is {:1.2f} %\".format(acc*100)\n"
   ]
  },
  {
   "cell_type": "markdown",
   "metadata": {},
   "source": [
    "As we can see that our simple model achieved an accuracy of ~ 92% which is good but not great. To make our model peform better we will need to train a deeper nueral network. For this we will use what is called Convolution Nueral Nets."
   ]
  },
  {
   "cell_type": "code",
   "execution_count": null,
   "metadata": {
    "collapsed": true
   },
   "outputs": [],
   "source": []
  }
 ],
 "metadata": {
  "anaconda-cloud": {},
  "kernelspec": {
   "display_name": "Python 2",
   "language": "python",
   "name": "python2"
  },
  "language_info": {
   "codemirror_mode": {
    "name": "ipython",
    "version": 2
   },
   "file_extension": ".py",
   "mimetype": "text/x-python",
   "name": "python",
   "nbconvert_exporter": "python",
   "pygments_lexer": "ipython2",
   "version": "2.7.13"
  }
 },
 "nbformat": 4,
 "nbformat_minor": 0
}
