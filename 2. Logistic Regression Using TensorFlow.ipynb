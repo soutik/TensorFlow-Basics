{
 "cells": [
  {
   "cell_type": "markdown",
   "metadata": {},
   "source": [
    "\n",
    "Logistic Regression Using TensorFlow\n",
    "==================================\n",
    "\n",
    "In this notebook, we will go through the steps for performing Logistic Regression on using TensorFlow."
   ]
  },
  {
   "cell_type": "markdown",
   "metadata": {},
   "source": [
    "---\n",
    "Loading Libraries and Dependencies\n",
    "----------------------------------"
   ]
  },
  {
   "cell_type": "code",
   "execution_count": 14,
   "metadata": {
    "collapsed": true
   },
   "outputs": [],
   "source": [
    "import numpy as np\n",
    "import tensorflow as tf\n",
    "import matplotlib.pyplot as plt\n",
    "%matplotlib inline\n",
    "import random"
   ]
  },
  {
   "cell_type": "markdown",
   "metadata": {},
   "source": [
    "---\n",
    "Part 1: Simple Problem\n",
    "--------------------\n",
    "\n",
    "In this example we will use the dataset available at http://www.ats.ucla.edu/stat/data/binary.csv.\n",
    "\n",
    "This dataset has a binary response (outcome, dependent) variable called admit. There are three predictor variables: gre, gpa and rank. We will treat the variables gre and gpa as continuous. The variable rank takes on the values 1 through 4. Institutions with a rank of 1 have the highest prestige, while those with a rank of 4 have the lowest. "
   ]
  },
  {
   "cell_type": "code",
   "execution_count": 80,
   "metadata": {
    "collapsed": false
   },
   "outputs": [
    {
     "name": "stdout",
     "output_type": "stream",
     "text": [
      "The error after 0 rounds is 0.693146586418\n",
      "The error after 10000 rounds is 0.578312397003\n",
      "The error after 20000 rounds is 0.576482713223\n",
      "The error after 30000 rounds is 0.574327528477\n",
      "The error after 40000 rounds is 0.577231287956\n",
      "The error after 50000 rounds is 0.575083255768\n",
      "The error after 60000 rounds is 0.57432192564\n",
      "The error after 70000 rounds is 0.576453328133\n",
      "The error after 80000 rounds is 0.574348032475\n",
      "The error after 90000 rounds is 0.574313104153\n",
      "The Weight term is [[ 0.00233621]\n",
      " [ 0.77817112]\n",
      " [-0.56119227]] and bias term is [-3.45223737]\n"
     ]
    }
   ],
   "source": [
    "# Load the data\n",
    "data = np.genfromtxt(\"http://www.ats.ucla.edu/stat/data/binary.csv\", delimiter= \",\")[1:, :]\n",
    "\n",
    "# Generate x and y values\n",
    "y_values = data[:, 0]\n",
    "x_values = data[:, 1:]\n",
    "\n",
    "# Create the variables required for the training\n",
    "x = tf.placeholder(\"float\", shape=[None, 3])\n",
    "y = tf.placeholder(\"float\", shape=[None, 1])\n",
    "\n",
    "# Create weight and bias terms\n",
    "W = tf.Variable(tf.zeros([3, 1]))\n",
    "b = tf.Variable(tf.zeros([1]))\n",
    "\n",
    "# Output of prediction\n",
    "y_model = tf.sigmoid(tf.matmul(x, W) + b)\n",
    "\n",
    "# Cost function of the problem\n",
    "cost = tf.reduce_mean(-(y*tf.log(y_model) + (1-y)*tf.log(1 - y_model)))\n",
    "\n",
    "# Optimizer\n",
    "optimizer = tf.train.AdamOptimizer(0.005).minimize(cost)\n",
    "\n",
    "# Initialize all variables\n",
    "init = tf.initialize_all_variables()\n",
    "\n",
    "with tf.Session() as sess:\n",
    "    sess.run(init)\n",
    "    \n",
    "    for i in range(100000):\n",
    "        _, err = sess.run([optimizer, cost], feed_dict={x:x_values, y:y_values.reshape(y_values.shape[0], -1)})\n",
    "        \n",
    "        if i % 10000 == 0:\n",
    "            print \"The error after {0} rounds is {1}\".format(i, err)\n",
    "    W_ = sess.run(W)\n",
    "    b_ = sess.run(b)\n",
    "    \n",
    "    print \"The Weight term is {0} and bias term is {1}\".format(W_, b_)"
   ]
  },
  {
   "cell_type": "code",
   "execution_count": 44,
   "metadata": {
    "collapsed": false
   },
   "outputs": [
    {
     "data": {
      "text/plain": [
       "(array([[ 0.00188723,  0.31928562, -0.60537482]]), array([-1.5115323]))"
      ]
     },
     "execution_count": 44,
     "metadata": {},
     "output_type": "execute_result"
    }
   ],
   "source": [
    "from sklearn.linear_model import LogisticRegression\n",
    "\n",
    "clf = LogisticRegression()\n",
    "clf.fit(x_values, y_values)\n",
    "\n",
    "clf.coef_, clf.intercept_"
   ]
  },
  {
   "cell_type": "code",
   "execution_count": 41,
   "metadata": {
    "collapsed": true
   },
   "outputs": [],
   "source": []
  },
  {
   "cell_type": "code",
   "execution_count": null,
   "metadata": {
    "collapsed": true
   },
   "outputs": [],
   "source": []
  }
 ],
 "metadata": {
  "kernelspec": {
   "display_name": "Python [Root]",
   "language": "python",
   "name": "Python [Root]"
  },
  "language_info": {
   "codemirror_mode": {
    "name": "ipython",
    "version": 2
   },
   "file_extension": ".py",
   "mimetype": "text/x-python",
   "name": "python",
   "nbconvert_exporter": "python",
   "pygments_lexer": "ipython2",
   "version": "2.7.11"
  }
 },
 "nbformat": 4,
 "nbformat_minor": 0
}
